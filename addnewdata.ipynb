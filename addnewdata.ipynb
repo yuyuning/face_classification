{
 "cells": [
  {
   "cell_type": "markdown",
   "metadata": {},
   "source": [
    "# Angry"
   ]
  },
  {
   "cell_type": "code",
   "execution_count": 1,
   "metadata": {},
   "outputs": [
    {
     "name": "stdout",
     "output_type": "stream",
     "text": [
      "[[143 144 144 ... 123 125 124]]\n",
      "[[48 55 52 ... 46 41 35]]\n",
      "[[255 255 255 ... 255 255 255]]\n",
      "[[ 63  64  65 ... 163 147 143]]\n",
      "[[255 255 255 ...  50  72  73]]\n",
      "[[206 207 207 ... 191 188 185]]\n",
      "[[232 232 236 ... 157 203 180]]\n",
      "[[ 59  66  74 ... 121 118 100]]\n",
      "[[179 182 184 ... 205 186 183]]\n",
      "[[34 42 52 ... 77 63 51]]\n",
      "[[58 59 65 ... 81 68 71]]\n",
      "[[251 251 251 ... 179 243  92]]\n",
      "[[68 76 80 ... 52 47 44]]\n",
      "[[  0   0 251 ... 141   0   0]]\n",
      "[[189 189 193 ... 112 142  78]]\n",
      "[[54 57 67 ... 87 80 70]]\n",
      "[[158 170 175 ...  70  69  67]]\n",
      "[[123 130 111 ... 228 184 216]]\n",
      "[[245 244 243 ...  30  35  34]]\n",
      "[[192 161 159 ... 170 182 185]]\n"
     ]
    }
   ],
   "source": [
    "import numpy as np\n",
    "import cv2\n",
    "import csv\n",
    "from glob import glob\n",
    "\n",
    "#x = np.array([[20, 20],[20, 20]])\n",
    "#x.shape[0]\n",
    "\n",
    "# with open('test.txt', 'r') as file:\n",
    "#     mystr = file.read()\n",
    "# data = np.fromstring(mystr, np.uint8 ,sep=' ')\n",
    "\n",
    "\n",
    "# num_shape = int(np.sqrt(data.shape[-1]))\n",
    "# #num_shape\n",
    "\n",
    "# data.shape = (num_shape,num_shape)\n",
    "# # data\n",
    "\n",
    "# cv2.imshow('im',data)\n",
    "# cv2.waitKey(0)\n",
    "\n",
    "## angry:0, disgust:1, fear:2, happy:3, sad:4, surprise:5, neutral:6\n",
    "with open('sh1.csv','a') as csvfile:\n",
    "    \n",
    "#     image_mask = cv2.imread(\"images/angry/*.jpg\")\n",
    "    img_mask ='images/angry/*.jpg'\n",
    "    emotion = 0\n",
    "    img_names = glob(img_mask)\n",
    "    for fn in img_names:\n",
    "    # im_gray = cv2.imread('happy-man.jpg', cv2.IMREAD_GRAYSCALE)\n",
    "        im_gray = cv2.imread(fn, cv2.IMREAD_GRAYSCALE)\n",
    "    # #px = im_gray[48,48]\n",
    "        resized_image = cv2.resize(im_gray, (48, 48))\n",
    "\n",
    "        test = np.array(resized_image)\n",
    "        test.shape = (1,2304)\n",
    "        s = np.savetxt('sh1.txt', test, delimiter=' ', fmt='%i')   # X is an array\n",
    "        pixels = str(test)\n",
    "        print(pixels)\n",
    "        a = open(\"sh1.txt\", \"r\") \n",
    "        pixels = a.read()\n",
    "    #         print(pixels)\n",
    "        writer = csv.writer(csvfile)\n",
    "        #     writer.writerow(['emotion', 'pixels', 'usage'])\n",
    "            \n",
    "        usage = 'Training'\n",
    "        writer.writerow([emotion,pixels,usage]) \n",
    "# cv2.imshow('im',test)\n",
    "# cv2.waitKey(0)"
   ]
  },
  {
   "cell_type": "markdown",
   "metadata": {},
   "source": [
    "# disgust"
   ]
  },
  {
   "cell_type": "code",
   "execution_count": 2,
   "metadata": {},
   "outputs": [
    {
     "name": "stdout",
     "output_type": "stream",
     "text": [
      "[[255 255 255 ... 255 255 255]]\n",
      "[[255 255 255 ... 255 255 255]]\n",
      "[[213 214 214 ... 206 206 206]]\n",
      "[[13 14 16 ... 22 19 15]]\n",
      "[[173 174 176 ... 137 142 135]]\n",
      "[[250 250 250 ... 255 255 255]]\n",
      "[[167 166 165 ... 129 132 127]]\n",
      "[[196 197 196 ... 194 192 190]]\n",
      "[[179 177 179 ... 179 179 179]]\n",
      "[[255 255 254 ...  41  39 102]]\n",
      "[[229 231 143 ... 128 130 168]]\n",
      "[[210 210 210 ... 210 210 210]]\n",
      "[[241 232 106 ...  17  30  27]]\n",
      "[[ 87  89  90 ... 199 195 139]]\n",
      "[[255 255 255 ...  50  50  50]]\n",
      "[[164 166 185 ...  54  57  45]]\n",
      "[[123 114 126 ... 103 118 166]]\n",
      "[[241 241 241 ...  35  39  34]]\n",
      "[[205 232 200 ... 198 211 217]]\n"
     ]
    }
   ],
   "source": [
    "## angry:0, disgust:1, fear:2, happy:3, sad:4, surprise:5, neutral:6\n",
    "with open('sh2.csv','a') as csvfile:\n",
    "\n",
    "    img_mask ='images/disgust/*.jpg'\n",
    "    emotion = 1\n",
    "    img_names = glob(img_mask)\n",
    "    for fn in img_names:\n",
    "    # im_gray = cv2.imread('happy-man.jpg', cv2.IMREAD_GRAYSCALE)\n",
    "        im_gray = cv2.imread(fn, cv2.IMREAD_GRAYSCALE)\n",
    "    # #px = im_gray[48,48]\n",
    "        resized_image = cv2.resize(im_gray, (48, 48))\n",
    "\n",
    "        test = np.array(resized_image)\n",
    "        test.shape = (1,2304)\n",
    "        s = np.savetxt('sh2.txt', test, delimiter=' ', fmt='%i')   # X is an array\n",
    "        pixels = str(test)\n",
    "        print(pixels)\n",
    "        a = open(\"sh2.txt\", \"r\") \n",
    "        pixels = a.read()\n",
    "    #         print(pixels)\n",
    "        writer = csv.writer(csvfile)\n",
    "        #     writer.writerow(['emotion', 'pixels', 'usage'])\n",
    "            \n",
    "        usage = 'Training'\n",
    "        writer.writerow([emotion,pixels,usage]) "
   ]
  },
  {
   "cell_type": "markdown",
   "metadata": {},
   "source": [
    "# Fear"
   ]
  },
  {
   "cell_type": "code",
   "execution_count": 3,
   "metadata": {},
   "outputs": [
    {
     "name": "stdout",
     "output_type": "stream",
     "text": [
      "[[ 80  83  84 ... 255 255 255]]\n",
      "[[ 69  60 127 ...  15  17  14]]\n",
      "[[11 11 12 ... 11  9  9]]\n",
      "[[ 1  3  5 ...  5  7 14]]\n",
      "[[  0   0   0 ... 255 255 255]]\n",
      "[[0 0 0 ... 1 1 1]]\n",
      "[[180 167 182 ...  42  38  48]]\n",
      "[[155 149 147 ... 169 159 135]]\n",
      "[[243 243 243 ...  28  35  34]]\n",
      "[[181 195 192 ... 220 213 232]]\n"
     ]
    }
   ],
   "source": [
    "## angry:0, disgust:1, fear:2, happy:3, sad:4, surprise:5, neutral:6\n",
    "with open('sh3.csv','a') as csvfile:\n",
    "\n",
    "    img_mask ='images/fear/*.jpg'\n",
    "    emotion = 2\n",
    "    img_names = glob(img_mask)\n",
    "    for fn in img_names:\n",
    "    # im_gray = cv2.imread('happy-man.jpg', cv2.IMREAD_GRAYSCALE)\n",
    "        im_gray = cv2.imread(fn, cv2.IMREAD_GRAYSCALE)\n",
    "    # #px = im_gray[48,48]\n",
    "        resized_image = cv2.resize(im_gray, (48, 48))\n",
    "\n",
    "        test = np.array(resized_image)\n",
    "        test.shape = (1,2304)\n",
    "        s = np.savetxt('sh3.txt', test, delimiter=' ', fmt='%i')   # X is an array\n",
    "        pixels = str(test)\n",
    "        print(pixels)\n",
    "        a = open(\"sh3.txt\", \"r\") \n",
    "        pixels = a.read()\n",
    "    #         print(pixels)\n",
    "        writer = csv.writer(csvfile)\n",
    "        #     writer.writerow(['emotion', 'pixels', 'usage'])\n",
    "            \n",
    "        usage = 'Training'\n",
    "        writer.writerow([emotion,pixels,usage]) "
   ]
  },
  {
   "cell_type": "markdown",
   "metadata": {},
   "source": [
    "# Happy"
   ]
  },
  {
   "cell_type": "code",
   "execution_count": 4,
   "metadata": {},
   "outputs": [
    {
     "name": "stdout",
     "output_type": "stream",
     "text": [
      "[[ 46  51  55 ... 102 140  70]]\n",
      "[[132 124 125 ... 223 223 238]]\n",
      "[[213 214 209 ...  36  33  41]]\n",
      "[[170 208 152 ... 167 177 177]]\n"
     ]
    }
   ],
   "source": [
    "import numpy as np\n",
    "import cv2\n",
    "import csv\n",
    "from glob import glob\n",
    "\n",
    "## angry:0, disgust:1, fear:2, happy:3, sad:4, surprise:5, neutral:6\n",
    "with open('sh4.csv','a') as csvfile:\n",
    "\n",
    "    img_mask ='images/happy/*.jpg'\n",
    "    emotion = 3\n",
    "    img_names = glob(img_mask)\n",
    "    for fn in img_names:\n",
    "    # im_gray = cv2.imread('happy-man.jpg', cv2.IMREAD_GRAYSCALE)\n",
    "        im_gray = cv2.imread(fn, cv2.IMREAD_GRAYSCALE)\n",
    "    # #px = im_gray[48,48]\n",
    "        resized_image = cv2.resize(im_gray, (48, 48))\n",
    "\n",
    "        test = np.array(resized_image)\n",
    "        test.shape = (1,2304)\n",
    "        s = np.savetxt('sh4.txt', test, delimiter=' ', fmt='%i')   # X is an array\n",
    "        pixels = str(test)\n",
    "        print(pixels)\n",
    "        a = open(\"sh4.txt\", \"r\") \n",
    "        pixels = a.read()\n",
    "    #         print(pixels)\n",
    "        writer = csv.writer(csvfile)\n",
    "        #     writer.writerow(['emotion', 'pixels', 'usage'])\n",
    "            \n",
    "        usage = 'Training'\n",
    "        writer.writerow([emotion,pixels,usage]) \n",
    "# cv2.imshow('im',test)\n",
    "# cv2.waitKey(0)"
   ]
  },
  {
   "cell_type": "markdown",
   "metadata": {},
   "source": [
    "# Sad"
   ]
  },
  {
   "cell_type": "code",
   "execution_count": 5,
   "metadata": {},
   "outputs": [
    {
     "name": "stdout",
     "output_type": "stream",
     "text": [
      "[[189 204 217 ... 196 200 199]]\n",
      "[[136 140 144 ... 170 168 163]]\n",
      "[[214 213 214 ...  11  13  29]]\n",
      "[[160 166 167 ...  83  82 141]]\n",
      "[[150 143 159 ... 119  99  81]]\n",
      "[[ 77  75  78 ...  74 103  72]]\n",
      "[[251 252 208 ... 232 252 255]]\n",
      "[[57 62 66 ... 40 44 46]]\n",
      "[[ 7  7  6 ... 25 22 22]]\n",
      "[[255 255 255 ...  98 105 104]]\n",
      "[[254 251 252 ... 198 217 255]]\n",
      "[[248 248 248 ...  82  35  36]]\n",
      "[[255 238 255 ... 210 203 183]]\n",
      "[[255 255 255 ... 161 255 255]]\n",
      "[[167 170 170 ...   2   5  11]]\n",
      "[[157 172 164 ...  72  65  54]]\n",
      "[[105 126 145 ...  81  95 123]]\n",
      "[[250 249 249 ...  36  38  41]]\n"
     ]
    }
   ],
   "source": [
    "import numpy as np\n",
    "import cv2\n",
    "import csv\n",
    "from glob import glob\n",
    "\n",
    "## angry:0, disgust:1, fear:2, happy:3, sad:4, surprise:5, neutral:6\n",
    "with open('sh5.csv','a') as csvfile:\n",
    "\n",
    "    img_mask ='images/sad/*.jpg'\n",
    "    emotion = 4\n",
    "    img_names = glob(img_mask)\n",
    "    for fn in img_names:\n",
    "    # im_gray = cv2.imread('happy-man.jpg', cv2.IMREAD_GRAYSCALE)\n",
    "        im_gray = cv2.imread(fn, cv2.IMREAD_GRAYSCALE)\n",
    "    # #px = im_gray[48,48]\n",
    "        resized_image = cv2.resize(im_gray, (48, 48))\n",
    "\n",
    "        test = np.array(resized_image)\n",
    "        test.shape = (1,2304)\n",
    "        s = np.savetxt('sh5.txt', test, delimiter=' ', fmt='%i')   # X is an array\n",
    "        pixels = str(test)\n",
    "        print(pixels)\n",
    "        a = open(\"sh5.txt\", \"r\") \n",
    "        pixels = a.read()\n",
    "    #         print(pixels)\n",
    "        writer = csv.writer(csvfile)\n",
    "        #     writer.writerow(['emotion', 'pixels', 'usage'])\n",
    "            \n",
    "        usage = 'Training'\n",
    "        writer.writerow([emotion,pixels,usage]) \n",
    "# cv2.imshow('im',test)\n",
    "# cv2.waitKey(0)"
   ]
  },
  {
   "cell_type": "markdown",
   "metadata": {},
   "source": [
    "# Surprise"
   ]
  },
  {
   "cell_type": "code",
   "execution_count": 6,
   "metadata": {},
   "outputs": [
    {
     "name": "stdout",
     "output_type": "stream",
     "text": [
      "[[ 46  51  55 ... 102 140  70]]\n",
      "[[132 124 125 ... 223 223 238]]\n",
      "[[213 214 209 ...  36  33  41]]\n",
      "[[170 208 152 ... 167 177 177]]\n"
     ]
    }
   ],
   "source": [
    "import numpy as np\n",
    "import cv2\n",
    "import csv\n",
    "from glob import glob\n",
    "\n",
    "## angry:0, disgust:1, fear:2, happy:3, sad:4, surprise:5, neutral:6\n",
    "with open('sh6.csv','a') as csvfile:\n",
    "\n",
    "    img_mask ='images/happy/*.jpg'\n",
    "    emotion = 5\n",
    "    img_names = glob(img_mask)\n",
    "    for fn in img_names:\n",
    "    # im_gray = cv2.imread('happy-man.jpg', cv2.IMREAD_GRAYSCALE)\n",
    "        im_gray = cv2.imread(fn, cv2.IMREAD_GRAYSCALE)\n",
    "    # #px = im_gray[48,48]\n",
    "        resized_image = cv2.resize(im_gray, (48, 48))\n",
    "\n",
    "        test = np.array(resized_image)\n",
    "        test.shape = (1,2304)\n",
    "        s = np.savetxt('sh6.txt', test, delimiter=' ', fmt='%i')   # X is an array\n",
    "        pixels = str(test)\n",
    "        print(pixels)\n",
    "        a = open(\"sh6.txt\", \"r\") \n",
    "        pixels = a.read()\n",
    "    #         print(pixels)\n",
    "        writer = csv.writer(csvfile)\n",
    "        #     writer.writerow(['emotion', 'pixels', 'usage'])\n",
    "            \n",
    "        usage = 'Training'\n",
    "        writer.writerow([emotion,pixels,usage]) \n",
    "# cv2.imshow('im',test)\n",
    "# cv2.waitKey(0)"
   ]
  },
  {
   "cell_type": "markdown",
   "metadata": {},
   "source": [
    "# Neutral"
   ]
  },
  {
   "cell_type": "code",
   "execution_count": 7,
   "metadata": {},
   "outputs": [
    {
     "name": "stdout",
     "output_type": "stream",
     "text": [
      "[[178 186 218 ... 250 250 249]]\n",
      "[[125 119 115 ... 219 238 147]]\n",
      "[[236 236 236 ... 236 236 236]]\n",
      "[[130 206 172 ... 165 170 162]]\n"
     ]
    }
   ],
   "source": [
    "import numpy as np\n",
    "import cv2\n",
    "import csv\n",
    "from glob import glob\n",
    "\n",
    "## angry:0, disgust:1, fear:2, happy:3, sad:4, surprise:5, neutral:6\n",
    "with open('sh7.csv','a') as csvfile:\n",
    "\n",
    "    img_mask ='images/neutral/*.jpg'\n",
    "    emotion = 6\n",
    "    img_names = glob(img_mask)\n",
    "    for fn in img_names:\n",
    "    # im_gray = cv2.imread('happy-man.jpg', cv2.IMREAD_GRAYSCALE)\n",
    "        im_gray = cv2.imread(fn, cv2.IMREAD_GRAYSCALE)\n",
    "    # #px = im_gray[48,48]\n",
    "        resized_image = cv2.resize(im_gray, (48, 48))\n",
    "\n",
    "        test = np.array(resized_image)\n",
    "        test.shape = (1,2304)\n",
    "        s = np.savetxt('sh7.txt', test, delimiter=' ', fmt='%i')   # X is an array\n",
    "        pixels = str(test)\n",
    "        print(pixels)\n",
    "        a = open(\"sh7.txt\", \"r\") \n",
    "        pixels = a.read()\n",
    "    #         print(pixels)\n",
    "        writer = csv.writer(csvfile)\n",
    "        #     writer.writerow(['emotion', 'pixels', 'usage'])\n",
    "            \n",
    "        usage = 'Training'\n",
    "        writer.writerow([emotion,pixels,usage]) \n",
    "# cv2.imshow('im',test)\n",
    "# cv2.waitKey(0)"
   ]
  },
  {
   "cell_type": "code",
   "execution_count": 12,
   "metadata": {},
   "outputs": [],
   "source": [
    "fout=open(\"out.csv\",\"a\")\n",
    "# first file:\n",
    "for line in open(\"sh1.csv\"):\n",
    "    fout.write(line)\n",
    "# now the rest:    \n",
    "for num in range(2,7):\n",
    "    f = open(\"sh\"+str(num)+\".csv\")\n",
    "#     f.__next__() # skip the header\n",
    "    for line in f:\n",
    "         fout.write(line)\n",
    "    f.close() # not really needed\n",
    "fout.close()"
   ]
  },
  {
   "cell_type": "code",
   "execution_count": null,
   "metadata": {},
   "outputs": [],
   "source": []
  }
 ],
 "metadata": {
  "kernelspec": {
   "display_name": "Python 3",
   "language": "python",
   "name": "python3"
  },
  "language_info": {
   "codemirror_mode": {
    "name": "ipython",
    "version": 3
   },
   "file_extension": ".py",
   "mimetype": "text/x-python",
   "name": "python",
   "nbconvert_exporter": "python",
   "pygments_lexer": "ipython3",
   "version": "3.6.8"
  }
 },
 "nbformat": 4,
 "nbformat_minor": 2
}
